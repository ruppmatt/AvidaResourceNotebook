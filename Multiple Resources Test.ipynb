{
 "cells": [
  {
   "cell_type": "code",
   "execution_count": null,
   "metadata": {},
   "outputs": [],
   "source": [
    "from avidares.SingleExperiment import SingleExperiment as SE\n",
    "from avidares.FactoredExperiment import FactoredExperiment as FE\n",
    "from avidares.FactoredCategoricalHeatmapAnimation import FactoredCategoricalHeatmapAnimation as Heatmap\n",
    "from avidares.utilities import save_n_html\n",
    "\n",
    "from IPython.core.display import HTML\n",
    "from pylab import rcParams\n",
    "import numpy as np\n",
    "\n",
    "SAVEPATH = '/Users/ruppmatt/Desktop/Resource Vids/New'"
   ]
  },
  {
   "cell_type": "code",
   "execution_count": null,
   "metadata": {},
   "outputs": [],
   "source": [
    "env =\\\n",
    "'RESOURCE res1:inflow=1.0:inflowx1=0:inflowx2=9:inflowy1=10:inflowy2=15'+\\\n",
    "':geometry=torus:xdiffuse=0.1:ydiffuse=0:xgravity=0:ygravity=0\\n'\\\n",
    "\\\n",
    "'RESOURCE res2:inflow=1.0:inflowx1=0:inflowx2=9:inflowy1=28:inflowy2=32'+\\\n",
    "':geometry=grid:ydiffuse=1\\n'+\\\n",
    "\\\n",
    "'RESOURCE res3:inflow=1.0:inflowx=50:inflowy=50:geometry=grid:xdiffuse=1:ydiffuse=0\\n'\n",
    "\n",
    "expr = SE(env, (60,60)).run()\n",
    "\n",
    "figkw = {\n",
    "    'title':'Three Resource Test'\n",
    "}\n",
    "anim = Heatmap(expr['resources'], expr.world_size(), **figkw)\n",
    "html = save_n_html(SAVEPATH, anim, expr.config())\n",
    "HTML(html)"
   ]
  },
  {
   "cell_type": "code",
   "execution_count": null,
   "metadata": {},
   "outputs": [],
   "source": [
    "env =\\\n",
    "'RESOURCE res1:inflow=1.0:inflowx1=0:inflowx2=9:inflowy1=10:inflowy2=15'+\\\n",
    "':geometry={geometry}:xdiffuse=0.1:ydiffuse={ydiffuse}\\n'+\\\n",
    "\\\n",
    "'RESOURCE res2:inflow=1.0:inflowx1=0:inflowx2=9:inflowy1=28:inflowy2=32'+\\\n",
    "':geometry={geometry}:ydiffuse={ydiffuse}\\n'\n",
    "facts = [('geometry',['grid', 'torus']), ('ydiffuse',[0,0.1,0.5,1.0])]\n",
    "\n",
    "expr = FE(env, facts).run()\n",
    "\n",
    "figkw = {\n",
    "    'title':'Multiple Resources Diffusion and Geometry Example'\n",
    "}\n",
    "\n",
    "animkw = {\n",
    "    'fig_conf':{'figsize':(8,24)}\n",
    "}\n",
    "\n",
    "anim = Heatmap(expr['resources'], expr.world_size(), dims=expr.dims(), **figkw)\n",
    "html = save_n_html(SAVEPATH, anim, expr.config(), animkw=animkw)\n",
    "\n",
    "HTML(html)"
   ]
  },
  {
   "cell_type": "code",
   "execution_count": null,
   "metadata": {},
   "outputs": [],
   "source": []
  }
 ],
 "metadata": {
  "language_info": {
   "name": "python",
   "pygments_lexer": "ipython3"
  }
 },
 "nbformat": 4,
 "nbformat_minor": 2
}
