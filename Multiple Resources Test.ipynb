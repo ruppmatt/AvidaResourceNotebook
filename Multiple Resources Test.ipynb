{
 "cells": [
  {
   "cell_type": "code",
   "execution_count": null,
   "metadata": {},
   "outputs": [],
   "source": [
    "from avidares.SingleExperiment import ResourceExperiment as RE\n",
    "from avidares.FactoredExperiment import ResourceFactoredExperiment as RFE\n",
    "from IPython.core.display import HTML\n",
    "from pylab import rcParams\n",
    "import numpy as np"
   ]
  },
  {
   "cell_type": "code",
   "execution_count": null,
   "metadata": {},
   "outputs": [],
   "source": [
    "env =\\\n",
    "'RESOURCE res1:inflow=1.0:inflowx1=0:inflowx2=9:inflowy1=10:inflowy2=15'+\\\n",
    "':geometry=torus:xdiffuse=0.1:ydiffuse=0:xgravity=0:ygravity=0\\n'\\\n",
    "\\\n",
    "'RESOURCE res2:inflow=1.0:inflowx1=0:inflowx2=9:inflowy1=28:inflowy2=32'+\\\n",
    "':geometry=grid:ydiffuse=1\\n'+\\\n",
    "\\\n",
    "'RESOURCE res3:inflow=1.0:inflowx=50:inflowy=50:geometry=grid:xdiffuse=1:ydiffuse=0\\n'\n",
    "\n",
    "HTML(RE(env, (60,60)).run_experiment().animate().to_html5_video())"
   ]
  },
  {
   "cell_type": "code",
   "execution_count": null,
   "metadata": {},
   "outputs": [],
   "source": [
    "env =\\\n",
    "'RESOURCE res1:inflow=1.0:inflowx1=0:inflowx2=9:inflowy1=10:inflowy2=15'+\\\n",
    "':geometry={geometry}:xdiffuse=0.1:ydiffuse={ydiffuse}\\n'+\\\n",
    "\\\n",
    "'RESOURCE res2:inflow=1.0:inflowx1=0:inflowx2=9:inflowy1=28:inflowy2=32'+\\\n",
    "':geometry={geometry}:ydiffuse={ydiffuse}\\n'\n",
    "facts = [('geometry',['grid', 'torus']), ('ydiffuse',[0,0.1,0.5,1.0])]\n",
    "\n",
    "expr = RFE(env, facts)\n",
    "rcParams['figure.figsize'] = 8, 12\n",
    "HTML(expr.run_experiments().animate().to_html5_video())\n"
   ]
  }
 ],
 "metadata": {
  "language_info": {
   "name": "python",
   "pygments_lexer": "ipython3"
  }
 },
 "nbformat": 4,
 "nbformat_minor": 2
}
