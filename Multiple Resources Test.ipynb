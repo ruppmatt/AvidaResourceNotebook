{
 "cells": [
  {
   "cell_type": "code",
   "execution_count": null,
   "metadata": {},
   "outputs": [],
   "source": [
    "from avidares.SingleExperiment import ResourceExperiment, ResourceExperimentAnimation\n",
    "from IPython.core.display import HTML\n",
    "import numpy as np"
   ]
  },
  {
   "cell_type": "code",
   "execution_count": null,
   "metadata": {},
   "outputs": [],
   "source": [
    "env =\\\n",
    "'RESOURCE res1:inflow=1.0:inflowx1=0:inflowx2=9:inflowy1=10:inflowy2=15'+\\\n",
    "':geometry=torus:xdiffuse=0.1:ydiffuse=0:xgravity=0:ygravity=0\\n'\\\n",
    "\\\n",
    "'RESOURCE res2:inflow=5.0:inflowx1=0:inflowx2=9:inflowy1=28:inflowy2=32'+\\\n",
    "':geometry=grid:ydiffuse=1\\n'\n",
    "#\\\n",
    "#'RESOURCE res3:inflow=5.0:inflowx=50:inflowy=50:geometry=grid:xdiffuse=1:ydiffuse=0\\n'\n",
    "\n",
    "HTML(ResourceExperiment(env, (60,60)).run_experiment().animate().to_html5_video())"
   ]
  },
  {
   "cell_type": "code",
   "execution_count": null,
   "metadata": {},
   "outputs": [],
   "source": []
  }
 ],
 "metadata": {
  "language_info": {
   "name": "python",
   "pygments_lexer": "ipython3"
  }
 },
 "nbformat": 4,
 "nbformat_minor": 2
}
