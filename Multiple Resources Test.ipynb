{
 "cells": [
  {
   "cell_type": "code",
   "execution_count": null,
   "metadata": {},
   "outputs": [],
   "source": [
    "from avidares.SingleExperiment import ResourceExperiment as RE, ResourceExperimentAnimation as REA\n",
    "from avidares.FactoredExperiment import ResourceFactoredExperiment as RFE, ResourceFactoredExperimentAnimation as RFEA\n",
    "from avidares.utilities import save_n_html\n",
    "\n",
    "from IPython.core.display import HTML\n",
    "from pylab import rcParams\n",
    "import numpy as np\n",
    "\n",
    "SAVEPATH = '/Users/ruppmatt/Desktop/Resource Vids/New'"
   ]
  },
  {
   "cell_type": "code",
   "execution_count": null,
   "metadata": {},
   "outputs": [],
   "source": [
    "env =\\\n",
    "'RESOURCE res1:inflow=1.0:inflowx1=0:inflowx2=9:inflowy1=10:inflowy2=15'+\\\n",
    "':geometry=torus:xdiffuse=0.1:ydiffuse=0:xgravity=0:ygravity=0\\n'\\\n",
    "\\\n",
    "'RESOURCE res2:inflow=1.0:inflowx1=0:inflowx2=9:inflowy1=28:inflowy2=32'+\\\n",
    "':geometry=grid:ydiffuse=1\\n'+\\\n",
    "\\\n",
    "'RESOURCE res3:inflow=1.0:inflowx=50:inflowy=50:geometry=grid:xdiffuse=1:ydiffuse=0\\n'\n",
    "\n",
    "expr = RE(env, (60,60)).run_experiment()\n",
    "\n",
    "figkw = {\n",
    "    'title':'Three Resource Test'\n",
    "}\n",
    "anim = REA(expr._data, expr._world_size, **figkw)\n",
    "html = html = save_n_html(SAVEPATH, anim, env=expr._used_environment, events=expr._used_events, args=expr._used_args)\n",
    "HTML(html)"
   ]
  },
  {
   "cell_type": "code",
   "execution_count": null,
   "metadata": {},
   "outputs": [],
   "source": [
    "env =\\\n",
    "'RESOURCE res1:inflow=1.0:inflowx1=0:inflowx2=9:inflowy1=10:inflowy2=15'+\\\n",
    "':geometry={geometry}:xdiffuse=0.1:ydiffuse={ydiffuse}\\n'+\\\n",
    "\\\n",
    "'RESOURCE res2:inflow=1.0:inflowx1=0:inflowx2=9:inflowy1=28:inflowy2=32'+\\\n",
    "':geometry={geometry}:ydiffuse={ydiffuse}\\n'\n",
    "facts = [('geometry',['grid', 'torus']), ('ydiffuse',[0,0.1,0.5,1.0])]\n",
    "\n",
    "expr = RFE(env, facts).run_experiments()\n",
    "\n",
    "figkw = {\n",
    "    'title':'Multiple Resources Diffusion and Geometry Example'\n",
    "}\n",
    "\n",
    "animkw = {\n",
    "    'fig_conf':{'figsize':(12,8)}\n",
    "}\n",
    "\n",
    "anim = RFEA(expr, **figkw)\n",
    "html = save_n_html(SAVEPATH, anim, animkw=animkw, \n",
    "                   env=expr._used_environment, events=expr._used_events, args=expr._used_args)\n",
    "\n",
    "HTML(html)"
   ]
  },
  {
   "cell_type": "code",
   "execution_count": null,
   "metadata": {},
   "outputs": [],
   "source": []
  }
 ],
 "metadata": {
  "language_info": {
   "name": "python",
   "pygments_lexer": "ipython3"
  }
 },
 "nbformat": 4,
 "nbformat_minor": 2
}
