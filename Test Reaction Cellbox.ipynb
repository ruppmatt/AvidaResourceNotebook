{
 "cells": [
  {
   "cell_type": "code",
   "execution_count": null,
   "metadata": {},
   "outputs": [],
   "source": [
    "from avidares.SingleExperiment import SingleExperiment as SE\n",
    "from avidares.FactoredCategoricalHeatmapAnimation import FactoredCategoricalHeatmapAnimation as Heatmap\n",
    "from avidares.BlitArtists import BRectangle\n",
    "from IPython.display import HTML\n"
   ]
  },
  {
   "cell_type": "code",
   "execution_count": null,
   "metadata": {},
   "outputs": [],
   "source": [
    "env  = \"REACTION  NOT  not   process:value=1.0:type=pow  requisite:max_count=1:cellbox:10,10,20,20\"\n",
    "env += \" REACTION  NAND nand  process:value=1.0:type=pow  requisite:max_count=1:cellbox:30,30,20,20\"\n",
    "\n",
    "events  = \"0 InjectAll all-functions.org\"\n",
    "events += \"0:1:end PrintCurrReactionCountGrid {file_curr_reactions}\"\n",
    "events += \"500 end\"\n",
    "\n",
    "expr = SE(env, (60,60), events=events).run()\n",
    "\n",
    "figkw = {\n",
    "    'title':'Cellbox Curr Reaction Count w/ all-functions organism seed\\nCyan=NOT, Magenta=NAND Allowed',\n",
    "    'post_plot':[\n",
    "        BRectangle((10,10),20,20,ec='cyan',fc='none'),\n",
    "        BRectangle((30,30),20,20,ec='magenta',fc='none')\n",
    "    ]\n",
    "}\n",
    "\n",
    "anim = Heatmap(expr['curr_reactions'], expr.world_size(), **figkw).animate()\n",
    "HTML(anim.to_html5_video())"
   ]
  },
  {
   "cell_type": "code",
   "execution_count": null,
   "metadata": {},
   "outputs": [],
   "source": []
  }
 ],
 "metadata": {
  "language_info": {
   "name": "python",
   "pygments_lexer": "ipython3"
  }
 },
 "nbformat": 4,
 "nbformat_minor": 2
}
