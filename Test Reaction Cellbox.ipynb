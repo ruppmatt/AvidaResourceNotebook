{
 "cells": [
  {
   "cell_type": "code",
   "execution_count": null,
   "metadata": {},
   "outputs": [],
   "source": [
    "from avidares.SingleExperiment import SingleExperiment as SE\n",
    "from avidares.FactoredCategoricalHeatmapAnimation import FactoredCategoricalHeatmapAnimation as Heatmap\n",
    "from avidares.BlitArtists import BRectangle\n",
    "from IPython.display import HTML\n",
    "import pandas as pd\n",
    "CWD = ''\n",
    "%matplotlib inline"
   ]
  },
  {
   "cell_type": "code",
   "execution_count": null,
   "metadata": {},
   "outputs": [],
   "source": [
    "env  = \"REACTION  NOT  not   process:value=1.0:type=pow  requisite:max_count=1:cellbox=10,10,20,20\"\n",
    "env += \" REACTION  NAND nand  process:value=1.0:type=pow  requisite:max_count=1:cellbox=30,30,20,20\"\n",
    "\n",
    "events  = \"0 InjectSequence stringgoeshere  0 3599\"\n",
    "events += \"0:1:end PrintCurrReactionCountGrid {file_curr_reactions}\"\n",
    "events += \"500 end\"\n",
    "\n",
    "expr = SE(env, (60,60), events=events, cwd=CWD).run()\n",
    "\n",
    "figkw = {\n",
    "    'title':'Cellbox Curr Reaction Count w/ all-functions organism seed\\nCyan=NOT, Magenta=NAND Allowed',\n",
    "    'post_plot':[\n",
    "        BRectangle((10,10),20,20,ec='cyan',fc='none'),\n",
    "        BRectangle((30,30),20,20,ec='magenta',fc='none')\n",
    "    ]\n",
    "}\n",
    "\n",
    "anim = Heatmap(expr['curr_reactions'], expr.world_size(), **figkw).animate()\n",
    "HTML(anim.to_html5_video())"
   ]
  },
  {
   "cell_type": "code",
   "execution_count": null,
   "metadata": {},
   "outputs": [],
   "source": [
    "data = pd.read_csv('curr-reaction-count.dat',comment='#', skip_blank_lines=True,delimiter=' ', header=None)"
   ]
  },
  {
   "cell_type": "code",
   "execution_count": null,
   "metadata": {},
   "outputs": [],
   "source": [
    "figkw = {\n",
    "    'title':'Cellbox Curr Reaction Count w/ all-functions organism seed\\nCyan=NOT, Magenta=NAND Allowed',\n",
    "    'post_plot':[\n",
    "        BRectangle((10,10),20,20,ec='cyan',fc='none'),\n",
    "        BRectangle((30,30),20,20,ec='magenta',fc='none')\n",
    "    ]\n",
    "}\n",
    "#anim = Heatmap(data, (60,60), **figkw).animate()\n",
    "#HTML(anim.to_html5_video())"
   ]
  },
  {
   "cell_type": "code",
   "execution_count": null,
   "metadata": {},
   "outputs": [],
   "source": [
    "data"
   ]
  },
  {
   "cell_type": "code",
   "execution_count": null,
   "metadata": {},
   "outputs": [],
   "source": [
    "import matplotlib.pyplot as plt\n",
    "import seaborn as sns\n",
    "from matplotlib.patches import Rectangle\n",
    "with sns.color_palette(\"PuBuGn_d\"):\n",
    "    plt.subplot(1,2,1)\n",
    "    plt.imshow(data.iloc[-1,2:-1].astype('float').values.reshape(60,60), interpolation='nearest')\n",
    "    p = Rectangle((30,30),20,20, fc='none', ec='magenta')\n",
    "    plt.gca().add_patch(p)\n",
    "    plt.subplot(1,2,2)\n",
    "    plt.imshow(data.iloc[-2,2:-1].astype('float').values.reshape(60,60), interpolation='nearest')\n",
    "    p = Rectangle((10,10),20,20, fc='none', ec='magenta')\n",
    "    plt.gca().add_patch(p)"
   ]
  },
  {
   "cell_type": "code",
   "execution_count": null,
   "metadata": {},
   "outputs": [],
   "source": [
    "data.iloc[-1,:]"
   ]
  },
  {
   "cell_type": "code",
   "execution_count": null,
   "metadata": {},
   "outputs": [],
   "source": []
  }
 ],
 "metadata": {
  "language_info": {
   "name": "python",
   "pygments_lexer": "ipython3"
  }
 },
 "nbformat": 4,
 "nbformat_minor": 2
}
