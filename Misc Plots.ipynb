{
 "cells": [
  {
   "cell_type": "code",
   "execution_count": null,
   "metadata": {},
   "outputs": [],
   "source": [
    "%matplotlib inline\n",
    "from avidares.FactoredExperiment import FactoredExperiment as FE\n",
    "from avidares.SingleExperiment import SingleExperiment as SE\n",
    "from avidares.FactoredCategoricalHeatmapAnimation import FactoredCategoricalHeatmapAnimation as Heatmap\n",
    "from avidares.BlitArtists import BRectangle\n",
    "from avidares.utilities import save_n_html\n",
    "from IPython.display import HTML\n",
    "import matplotlib.pyplot as plt\n",
    "\n",
    "SAVEPATH = '/Users/ruppmatt/Desktop/Resource Vids/New'"
   ]
  },
  {
   "cell_type": "code",
   "execution_count": null,
   "metadata": {},
   "outputs": [],
   "source": [
    "env = 'RESOURCE res:geometry=grid:inflow=1.0:outflow=1.0:xdiffuse=1.0:ydiffuse=0.0'\n",
    "env += ':inflowx1=0:inflowy1=0:inflowx2=1:inflowy2=59'\n",
    "env += ':outflowx1=58:outflowx2=58:outflowy1=0:outflowy2=59\\n'\n",
    "expr = SE(env, (60,60)).run()\n",
    "\n",
    "figkw = {\n",
    "    'title':'X-Diffusion with Inflow (Cyan) and Outflow (Magenta)',\n",
    "    'post_plot':[BRectangle((0,0),2,60,ec='cyan',fc='none'), BRectangle((58,0),2,60,ec='magenta',fc='none')]\n",
    "}\n",
    "\n",
    "anim = Heatmap(expr['resources'], expr.world_size(), **figkw)\n",
    "html = save_n_html(SAVEPATH, anim, expr.config())\n",
    "HTML(html)"
   ]
  },
  {
   "cell_type": "code",
   "execution_count": null,
   "metadata": {},
   "outputs": [],
   "source": [
    "env = 'RESOURCE res:geometry=grid:inflow=1.0:outflow=0:xdiffuse=1.0:ydiffuse=0.0'\n",
    "env += ':inflowx1=0:inflowy1=0:inflowx2=1:inflowy2=59'\n",
    "expr = SE(env, (60,60)).run()\n",
    "\n",
    "figkw = {\n",
    "    'title':'X-Diffusion with Inflow (Cyan) No Outflow',\n",
    "    'post_plot':[BRectangle((0,0),2,60,ec='cyan',fc='none')]\n",
    "}\n",
    "\n",
    "anim = Heatmap(expr['resources'], expr.world_size(), **figkw)\n",
    "html = save_n_html(SAVEPATH, anim, expr.config())\n",
    "HTML(html)"
   ]
  },
  {
   "cell_type": "code",
   "execution_count": null,
   "metadata": {},
   "outputs": [],
   "source": [
    "env = 'RESOURCE res:geometry=grid:inflow=1.0:outflow=0:xdiffuse=0.0:ydiffuse=0.0'\n",
    "env += ':inflowx1=5:inflowy1=0:inflowx2=5:inflowy2=9'\n",
    "env += ':xgravity={xgravity}'\n",
    "facts = [('xgravity',[-1.0,-0.01,0.01,1.0])]\n",
    "\n",
    "args_dict = {\n",
    "    'world_x':10,\n",
    "    'world_y':10,\n",
    "}\n",
    "\n",
    "events_dict = {\n",
    "    'end':2000,\n",
    "    'interval':1\n",
    "}\n",
    "\n",
    "\n",
    "expr = FE(env, facts, events_dict=events_dict, args_dict=args_dict).run()\n",
    "\n",
    "figkw = {\n",
    "    'title':'Inflow Box (Cyan) with X-Gravity',\n",
    "    'post_plot':[BRectangle((5,0),1,10,fc='none',ec='cyan')]\n",
    "}\n",
    "\n",
    "\n",
    "anim = Heatmap(expr['resources'], expr.world_size(), dims=expr.dims(), **figkw)\n",
    "html = save_n_html(SAVEPATH, anim, expr.config())\n",
    "HTML(html)"
   ]
  },
  {
   "cell_type": "code",
   "execution_count": null,
   "metadata": {},
   "outputs": [],
   "source": []
  }
 ],
 "metadata": {
  "language_info": {
   "name": "python",
   "pygments_lexer": "ipython3"
  }
 },
 "nbformat": 4,
 "nbformat_minor": 2
}
