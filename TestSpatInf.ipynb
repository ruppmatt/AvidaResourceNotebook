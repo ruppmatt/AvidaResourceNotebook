{
 "cells": [
  {
   "cell_type": "code",
   "execution_count": null,
   "metadata": {},
   "outputs": [],
   "source": [
    "import pandas as pd\n",
    "import matplotlib as mpl\n",
    "import matplotlib.pyplot as plt\n",
    "from matplotlib.patches import Rectangle"
   ]
  },
  {
   "cell_type": "code",
   "execution_count": null,
   "metadata": {},
   "outputs": [],
   "source": [
    "def load_reactions(path):\n",
    "    data = pd.read_csv(path, \n",
    "                           comment='#', skip_blank_lines=True, \n",
    "                           delimiter=' ', header=None).infer_objects()\n",
    "    nrows,ncols = data.shape\n",
    "    colnames = ['update','reaction']\n",
    "    cellcols = map(lambda x: f'cell_{x}', range(0,ncols-2))\n",
    "    colnames.extend(cellcols)\n",
    "    print(len(colnames), len(data.columns))\n",
    "    data.columns = colnames\n",
    "    return data\n",
    "\n",
    "\n",
    "def check_cellbox(data,world_x,world_y,xx,yy,width,height):\n",
    "    inside_cellbox = []\n",
    "    world_y, world_x = data.shape\n",
    "    for y in range(yy,yy+height):\n",
    "        for x in range(xx,xx+width):\n",
    "            cell_id = y*world_x + x\n",
    "            inside_cellbox.append(cell_id)\n",
    "\n",
    "    for u_ndx, update in enumerate(data.iloc[:,0].values):\n",
    "        for c_ndx,cell_value in enumerate(data.iloc[u_ndx,2:].values):\n",
    "            if c_ndx not in inside_cellbox and cell_value > 0:\n",
    "                msg = f'Cell {c_ndx} is outside the cellbox'\n",
    "                msg += f' and has a value of {cell_value} at update {update}' \n",
    "                raise Exception(msg)"
   ]
  },
  {
   "cell_type": "code",
   "execution_count": null,
   "metadata": {},
   "outputs": [],
   "source": [
    "dir = '/Users/ruppmatt/devel/avida/resources/test_spatinf/data'\n",
    "data = load_reactions(f'{dir}/curr-reaction-count.dat')"
   ]
  },
  {
   "cell_type": "code",
   "execution_count": null,
   "metadata": {},
   "outputs": [],
   "source": [
    "config = {'world_x':60, 'world_y':50}\n",
    "not_cellbox = {'xx':5,'yy':5,'width':10,'height':10}\n",
    "\n",
    "check_cellbox(data.loc[data['reaction']=='NOT'], **{**config,**not_cellbox})\n"
   ]
  },
  {
   "cell_type": "code",
   "execution_count": null,
   "metadata": {},
   "outputs": [],
   "source": [
    "data.loc[data['reaction']=='NOT'].iloc[:,2:].values"
   ]
  },
  {
   "cell_type": "code",
   "execution_count": null,
   "metadata": {},
   "outputs": [],
   "source": [
    "427 // 60"
   ]
  },
  {
   "cell_type": "code",
   "execution_count": null,
   "metadata": {},
   "outputs": [],
   "source": [
    "427 % 60"
   ]
  },
  {
   "cell_type": "code",
   "execution_count": null,
   "metadata": {},
   "outputs": [],
   "source": []
  }
 ],
 "metadata": {
  "language_info": {
   "name": "python",
   "pygments_lexer": "ipython3"
  }
 },
 "nbformat": 4,
 "nbformat_minor": 2
}
