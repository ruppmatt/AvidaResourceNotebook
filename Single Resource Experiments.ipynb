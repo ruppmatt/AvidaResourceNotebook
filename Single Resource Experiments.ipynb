{
 "cells": [
  {
   "cell_type": "code",
   "execution_count": null,
   "metadata": {},
   "outputs": [],
   "source": [
    "%matplotlib inline\n",
    "from avidares.SingleExperiment import ResourceExperiment as SRE\n",
    "from IPython.display import HTML\n",
    "import matplotlib as mpl"
   ]
  },
  {
   "cell_type": "code",
   "execution_count": null,
   "metadata": {},
   "outputs": [],
   "source": [
    "# The arguments are the string to generate the resource file and the world size as (X,Y)\n",
    "expr = SRE('RESOURCE res:geometry=grid:inflow=1.0:outflow=0.5:xdiffuse=0.5:ydiffuse=0.5', (60,60))\n",
    "expr.run_experiment()\n",
    "HTML(expr.animate().to_html5_video())"
   ]
  },
  {
   "cell_type": "code",
   "execution_count": null,
   "metadata": {},
   "outputs": [],
   "source": []
  }
 ],
 "metadata": {
  "language_info": {
   "name": "python",
   "pygments_lexer": "ipython3"
  }
 },
 "nbformat": 4,
 "nbformat_minor": 2
}
