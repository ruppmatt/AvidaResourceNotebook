{
 "cells": [
  {
   "cell_type": "code",
   "execution_count": null,
   "metadata": {},
   "outputs": [],
   "source": [
    "%matplotlib inline\n",
    "from avidares.SingleExperiment import ResourceExperiment as RE\n",
    "from IPython.display import HTML\n",
    "from avidares.BlitArtists import BRectangle\n",
    "import matplotlib.pylab as plt"
   ]
  },
  {
   "cell_type": "markdown",
   "metadata": {},
   "source": [
    "Single Resource Experiments\n",
    "===============\n",
    "\n",
    "This notebook demonstrates the avidares utilities to generate and plot a single experiment that uses resources.\n",
    "\n",
    "There are two main classes: ResourceExperiment and ResourceExperimentAnimation.\n",
    "\n",
    "ResourceExperiment performs the Avida experiment and loads the resource output file as a Pandas DataFrame.  It receives the following arguments:\n",
    "\n",
    "    :param environment:  A string representation of the environment file.  Required.\n",
    "    :param world_size:   A tuple of the (X,Y) size of the world.  Required.\n",
    "    :param cwd:  The working directory to execute Avida.  Optional.\n",
    "    :param args:  Arguments to pass to Avida aside from world size and location of input/output files.  Optional.\n",
    "    :param evnets: The contents of the events file.  If not provided, a default is used. Optional\n",
    "    :param use_pbar: Show the progress bar\n",
    "\n",
    "All files created for the experiment are stored in a temporary directory.  This directory and its contents are deleted when the last reference to the ResourceExperiment is removed.\n",
    "\n",
    "ResourceExperiment.animate() will make an animation of the resource abundances.  It may take up to three arguments:\n",
    "\n",
    "    :param data_transform:  A function that will transform the resource data in the Pandas DataFrame\n",
    "    :param figkw:  A dictionary of parameters to pass to the animation initializer method\n",
    "    :param animkw: A dictionary of parameters to pass to the animation animate() method"
   ]
  },
  {
   "cell_type": "code",
   "execution_count": null,
   "metadata": {},
   "outputs": [],
   "source": [
    "# The arguments are the string to generate the resource file and the world size as (X,Y)\n",
    "env = 'RESOURCE res:geometry=grid:inflow=1.0:outflow=0.5:xdiffuse=0.5:ydiffuse=0.5'\n",
    "expr = RE(env, (60,60))\n",
    "HTML(expr.run_experiment().animate().to_html5_video())"
   ]
  },
  {
   "cell_type": "code",
   "execution_count": null,
   "metadata": {},
   "outputs": [],
   "source": [
    "# The arguments are the string to generate the resource file and the world size as (X,Y)\n",
    "env = 'RESOURCE res:geometry=grid:inflow=1.0:outflow=0.5:xdiffuse=1.0:ydiffuse=1.0:'\n",
    "env += 'inflowx1=2:inflowx2=5:inflowy1=2:inflowy2=5:'\n",
    "env += 'outflowx1=14:outflowx2=18:outflowy1=14:outflowy2=18'\n",
    "r_in = BRectangle((2,2), 4, 4, ec='cyan', fc='none')\n",
    "r_out = BRectangle((14,14), 5, 5, ec='magenta', fc='none')\n",
    "figkw = {'title':'Inflow/Outflow Boxes','post_plot':[r_in, r_out]}\n",
    "expr = RE(env, (20,20))\n",
    "HTML(expr.run_experiment().animate(figkw=figkw).to_html5_video())"
   ]
  },
  {
   "cell_type": "code",
   "execution_count": null,
   "metadata": {},
   "outputs": [],
   "source": [
    "env = 'RESOURCE res:geometry=grid:inflow=1.0:outflow=0.5:xdiffuse=1.0:ydiffuse=1.0:'\n",
    "env += 'inflowx1=8:inflowx2=12:inflowy1=8:inflowy2=12'\n",
    "\n",
    "# We are going to specify what events that we're going to use instead of relying\n",
    "# on a provided default\n",
    "events ='\\\n",
    "    u begin Inject default-heads.org\\n\\\n",
    "    u 0:1:end PrintSpatialResources resources.dat\\n\\\n",
    "    u 100 exit\\n'\n",
    "\n",
    "# Put a box around the inflow\n",
    "r_in = BRectangle((8,8), 5, 5, ec='cyan', lw=3, fc='none')\n",
    "\n",
    "# Some additional arguments to pass to the animation function\n",
    "# figkw gets passed to the ResourceExperimentAnimation initializer\n",
    "figkw = {'title':'Slow Motion Inflow Only','post_plot':[r_in], 'interval':1000}\n",
    "# animkw gets passed to ResourceExperimentAnimation's animate method\n",
    "animkw = {'fig_conf':{'figsize':(8,6), 'dpi':100}}\n",
    "\n",
    "# Setup our expeririment\n",
    "expr = RE(env, (20,20), events=events)\n",
    "\n",
    "# Run, animate, and display our animation\n",
    "HTML(expr.run_experiment().animate(figkw=figkw, animkw=animkw).to_html5_video())"
   ]
  },
  {
   "cell_type": "code",
   "execution_count": null,
   "metadata": {},
   "outputs": [],
   "source": [
    "env = 'RESOURCE res:geometry=torus:inflow=1.0:outflow=1.0:xdiffuse=1.0:ydiffuse=1.0:'\n",
    "env += 'inflowx1=8:inflowx2=12:inflowy1=8:inflowy2=12:'\n",
    "env += 'outflowx1=9:outflowx2=13:outflowy1=9:outflowy2=13'\n",
    "\n",
    "# We are going to specify what events that we're going to use instead of relying\n",
    "# on a provided default\n",
    "events ='\\\n",
    "    u begin Inject default-heads.org\\n\\\n",
    "    u 0:10:end PrintSpatialResources resources.dat\\n\\\n",
    "    u 10000 exit\\n'\n",
    "\n",
    "# Put a box around the inflow\n",
    "r_in = BRectangle((8,8), 5, 5, ec='cyan', lw=3, fc='none')\n",
    "r_out = BRectangle((9,9), 5, 5, ec='magenta', lw=3, fc='none')\n",
    "\n",
    "# Some additional arguments to pass to the animation function\n",
    "# figkw gets passed to the ResourceExperimentAnimation initializer\n",
    "figkw = {'title':'inflow=1.0 outflow=1.0\\nCyan=Inflow Magenta=Outflow','post_plot':[r_in, r_out], 'interval':50}\n",
    "# animkw gets passed to ResourceExperimentAnimation's animate method\n",
    "animkw = {'fig_conf':{'figsize':(8,6), 'dpi':100}}\n",
    "\n",
    "# Setup our expeririment\n",
    "expr = RE(env, (20,20), events=events)\n",
    "\n",
    "# Run, animate, and display our animation\n",
    "html = expr.run_experiment().animate(figkw=figkw, animkw=animkw).to_html5_video()\n",
    "plt.close()\n",
    "HTML(html)\n"
   ]
  },
  {
   "cell_type": "code",
   "execution_count": null,
   "metadata": {},
   "outputs": [],
   "source": []
  }
 ],
 "metadata": {
  "language_info": {
   "name": "python",
   "pygments_lexer": "ipython3"
  }
 },
 "nbformat": 4,
 "nbformat_minor": 2
}
