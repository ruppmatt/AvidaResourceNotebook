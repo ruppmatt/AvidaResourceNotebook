{
 "cells": [
  {
   "cell_type": "code",
   "execution_count": null,
   "metadata": {},
   "outputs": [],
   "source": [
    "%matplotlib inline\n",
    "from avidares.SingleExperiment import ResourceExperiment as RE\n",
    "from IPython.display import HTML\n",
    "from avidares.BlitArtists import BRectangle"
   ]
  },
  {
   "cell_type": "markdown",
   "metadata": {},
   "source": [
    "Single Resource Experiments\n",
    "===============\n",
    "\n",
    "This notebook demonstrates the avidares utilities to generate and plot a single experiment that uses resources.\n",
    "\n",
    "There are two main classes: ResourceExperiment and ResourceExperimentAnimation.\n",
    "\n",
    "ResourceExperiment performs the Avida experiment and loads the resource output file as a Pandas DataFrame.  It receives the following arguments:\n",
    "\n",
    "    :param environment:  A string representation of the environment file.  Required.\n",
    "    :param world_size:   A tuple of the (X,Y) size of the world.  Required.\n",
    "    :param cwd:  The working directory to execute Avida.  Optional.\n",
    "    :param args:  Arguments to pass to Avida aside from world size and location of input/output files.  Optional.\n",
    "    :param evnets: The contents of the events file.  If not provided, a default is used. Optional\n",
    "    :param use_pbar: Show the progress bar\n",
    "\n",
    "All files created for the experiment are stored in a temporary directory.  This directory and its contents are deleted when the last reference to the ResourceExperiment is removed.\n",
    "\n",
    "ResourceExperiment.animate() will make an animation of the resource abundances.  Upto three resources may be displayed."
   ]
  },
  {
   "cell_type": "code",
   "execution_count": null,
   "metadata": {},
   "outputs": [],
   "source": [
    "# The arguments are the string to generate the resource file and the world size as (X,Y)\n",
    "env = 'RESOURCE res:geometry=grid:inflow=1.0:outflow=0.5:xdiffuse=0.5:ydiffuse=0.5'\n",
    "expr = RE(env, (60,60))\n",
    "HTML(expr.run_experiment().animate().to_html5_video())"
   ]
  },
  {
   "cell_type": "code",
   "execution_count": null,
   "metadata": {},
   "outputs": [],
   "source": [
    "# The arguments are the string to generate the resource file and the world size as (X,Y)\n",
    "env = 'RESOURCE res:geometry=grid:inflow=1.0:outflow=0.5:xdiffuse=1.0:ydiffuse=1.0:'\n",
    "env += 'inflowx1=2:inflowx2=5:inflowy1=2:inflowy2=5:'\n",
    "env += 'outflowx1=14:outflowx2=18:outflowy1=14:outflowy2=18'\n",
    "r_in = BRectangle((2,2), 4, 4, ec='cyan', fc='none')\n",
    "r_out = BRectangle((14,14), 5, 5, ec='magenta', fc='none')\n",
    "figkw = {'title':'Inflow/Outflow Boxes','post_plot':[r_in, r_out]}\n",
    "expr = RE(env, (20,20))\n",
    "HTML(expr.run_experiment().animate(figkw=figkw).to_html5_video())"
   ]
  },
  {
   "cell_type": "code",
   "execution_count": null,
   "metadata": {},
   "outputs": [],
   "source": []
  }
 ],
 "metadata": {
  "language_info": {
   "name": "python",
   "pygments_lexer": "ipython3"
  }
 },
 "nbformat": 4,
 "nbformat_minor": 2
}
