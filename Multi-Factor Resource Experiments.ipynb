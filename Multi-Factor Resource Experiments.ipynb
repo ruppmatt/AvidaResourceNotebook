{
 "cells": [
  {
   "cell_type": "markdown",
   "metadata": {},
   "source": [
    "Multi-Factor Resource Plotting\n",
    "=================\n",
    "\n",
    "The purpose of this notebook is to demonstrate how resource configurations work in Avida by generating data in the form of a set of multi-factored experiments and the animating them.  This work is accomplished in the avidares.FactoredExperiment module.\n",
    "\n",
    "There are two classes in avidares.FactoredExperiment:\n",
    "\n",
    "* FactoredExperiment: which handles the execution and storage of multi-factored experiments.\n",
    "    \n",
    "* FactoredResourcePlot: which handles the generation of the animations for the experiments.\n",
    "    \n",
    "In the example below, FactoredExperiment's animate() method handles the generation of the animation object.  To see the object, we must first force it to be rendered using the to_html5_video() method and then embed it in the notebook by passing it as an argument to HTML().\n",
    "\n",
    "\n"
   ]
  },
  {
   "cell_type": "code",
   "execution_count": null,
   "metadata": {},
   "outputs": [],
   "source": [
    "%matplotlib inline\n",
    "from avidares.FactoredExperiment import FactoredResourcePlot, FactoredExperiment, ColorMaps\n",
    "from IPython.display import HTML"
   ]
  },
  {
   "cell_type": "code",
   "execution_count": null,
   "metadata": {},
   "outputs": [],
   "source": [
    "# env holds the string that is used to configure the environment.\n",
    "# The parameters in braces will be filled in by the list of key/values tuples\n",
    "# at execution time\n",
    "env = 'RESOURCE food:geometry={geometry}:inflow={inflow}:outflow=1.0:'\n",
    "env += 'inflowx1=10:inflowy1=10:outflowx1=10:outflowy1=10'\n",
    "\n",
    "# facts holds what factors we want to assay over.  It takes the form of a list\n",
    "# where each object in the list takes the form of a paired tuple, with the first\n",
    "# element being the name of the parameter to replace in the environment string, env above,\n",
    "# and the second element of the pair is a list of values for that parameter.\n",
    "# Note that FactoredExperiment can take more than two factors; the animation function,\n",
    "# however, will not plot factored experiments with more than two factors.\n",
    "facts = [('inflow',[0.5,1.0,2.0]), ('geometry',['torus','grid'])]\n",
    "\n",
    "HTML(FactoredExperiment(env, facts).run_experiments().animate().to_html5_video())"
   ]
  },
  {
   "cell_type": "code",
   "execution_count": null,
   "metadata": {},
   "outputs": [],
   "source": [
    "env = 'RESOURCE food:geometry={geometry}:inflow={inflow}:outflow=1.0:'\n",
    "env += 'inflowx1=10:inflowy1=10:outflowx1=10:outflowy1=10'\n",
    "\n",
    "facts = [('inflow',[0.5,1.0,2.0]), ('geometry',['torus','grid'])]\n",
    "\n",
    "HTML(FactoredExperiment(env, facts).run_experiments().animate().to_html5_video())"
   ]
  },
  {
   "cell_type": "code",
   "execution_count": null,
   "metadata": {},
   "outputs": [],
   "source": [
    "env =  'RESOURCE food:geometry={geometry}:inflow=1.0:outflow=0.0:'\n",
    "env += 'inflowx1=0:inflowx2=1:inflowy1=26:inflowy2=34:'\n",
    "env += 'xdiffuse=0.5:ydiffuse=0:ygravity=0:xgravity=0'\n",
    "facts = [('geometry',['torus','grid'])]\n",
    "\n",
    "HTML(FactoredExperiment(env, facts).run_experiments().animate().to_html5_video())\n"
   ]
  },
  {
   "cell_type": "code",
   "execution_count": null,
   "metadata": {},
   "outputs": [],
   "source": []
  }
 ],
 "metadata": {
  "language_info": {
   "name": "python",
   "pygments_lexer": "ipython3"
  }
 },
 "nbformat": 4,
 "nbformat_minor": 2
}
