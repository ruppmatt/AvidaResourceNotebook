{
 "cells": [
  {
   "cell_type": "markdown",
   "metadata": {},
   "source": [
    "Multi-Factor Resource Plotting\n",
    "=================\n",
    "\n",
    "The purpose of this notebook is to demonstrate how resource configurations work in Avida by generating data in the form of a set of multi-factored experiments and the animating them.  This work is accomplished in the avidares.FactoredExperiment module.\n",
    "\n",
    "There are two classes in avidares.FactoredExperiment:\n",
    "\n",
    "* FactoredExperiment: which handles the execution and storage of multi-factored experiments.\n",
    "    \n",
    "* FactoredResourcePlot: which handles the generation of the animations for the experiments.\n",
    "    \n",
    "In the example below, FactoredExperiment's animate() method handles the generation of the animation object.  To see the object, we must first force it to be rendered using the to_html5_video() method and then embed it in the notebook by passing it as an argument to HTML().\n",
    "\n",
    "\n"
   ]
  },
  {
   "cell_type": "code",
   "execution_count": null,
   "metadata": {},
   "outputs": [],
   "source": [
    "%matplotlib inline\n",
    "from avidares.FactoredExperiment import FactoredExperiment as FE\n",
    "from avidares.FactoredCategoricalHeatmapAnimation import FactoredCategoricalHeatmapAnimation as Heatmap\n",
    "from avidares.BlitArtists import BRectangle\n",
    "from avidares.utilities import save_n_html\n",
    "from IPython.display import HTML\n",
    "import matplotlib.pyplot as plt\n",
    "\n",
    "SAVEPATH = '/Users/ruppmatt/Desktop/Resource Vids/New'"
   ]
  },
  {
   "cell_type": "code",
   "execution_count": null,
   "metadata": {},
   "outputs": [],
   "source": [
    "# env holds the string that is used to configure the environment.\n",
    "# The parameters in braces will be filled in by the list of key/values tuples\n",
    "# at execution time\n",
    "env = 'RESOURCE food:geometry=grid:inflow={inflow}:outflow=1.0:'\n",
    "env += 'inflowx1=10:inflowy1=10:outflowx1=10:outflowy1=10'\n",
    "\n",
    "# facts holds what factors we want to assay over.  It takes the form of a list\n",
    "# where each object in the list takes the form of a paired tuple, with the first\n",
    "# element being the name of the parameter to replace in the environment string, env above,\n",
    "# and the second element of the pair is a list of values for that parameter.\n",
    "# Note that FactoredExperiment can take more than two factors; the animation function,\n",
    "# however, will not plot factored experiments with more than two factors.\n",
    "facts = [('inflow',[0.5,1.0,2.0])]\n",
    "\n",
    "expr = FE(env, facts).run()\n",
    "\n",
    "figkw = {\n",
    "    'title':'Comparison of Inflow Rates (Cyan)',\n",
    "    'post_plot':[BRectangle((10,10),1,1,fc='none',ec='cyan')]\n",
    "}\n",
    "\n",
    "anim = Heatmap(expr['resources'], expr.world_size(), dims=expr.dims(), **figkw)\n",
    "html = save_n_html(SAVEPATH, anim, expr.config())\n",
    "HTML(html)"
   ]
  },
  {
   "cell_type": "code",
   "execution_count": null,
   "metadata": {},
   "outputs": [],
   "source": [
    "env =  'RESOURCE food:geometry={geometry}:inflow=1.0:outflow=0.0:'\n",
    "env += 'inflowx1=0:inflowx2=1:inflowy1=26:inflowy2=35:'\n",
    "env += 'xdiffuse=0.5:ydiffuse=0:ygravity=0:xgravity=0'\n",
    "facts = [('geometry',['torus','grid'])]\n",
    "\n",
    "expr = FE(env, facts).run()\n",
    "figkw = {\n",
    "    'title':'Assaying over Geometry with Inflow Box (Cyan)',\n",
    "    'post_plot':[BRectangle((0,26),1,10,fc='none',ec='cyan')]\n",
    "}\n",
    "\n",
    "anim = Heatmap(expr['resources'], expr.world_size(), dims=expr.dims(), **figkw)\n",
    "html = save_n_html(SAVEPATH, anim, expr.config())\n",
    "HTML(html)"
   ]
  },
  {
   "cell_type": "code",
   "execution_count": null,
   "metadata": {},
   "outputs": [],
   "source": [
    "env = 'RESOURCE food:geometry=grid:inflow=1:outflow=0.0'\n",
    "env += ':inflowx1=12:inflowy1=12:inflowx2=17:inflowy2=17'\n",
    "env += ':xdiffuse={xdiffuse}:ydiffuse={ydiffuse}'\n",
    "facts = [('xdiffuse',[0.0,1.0]), ('ydiffuse',[0.0,1.0])]\n",
    "events_dict = {'end':100,'interval':1}\n",
    "args_dict = {'world_x':30, 'world_y':30}\n",
    "\n",
    "expr = FE(env, facts, args_dict=args_dict, events_dict=events_dict).run()\n",
    "\n",
    "figkw = {\n",
    "    'title':'X and Y Diffusion On and Off (Cyan Inflow)',\n",
    "    'interval':500,\n",
    "    'post_plot':[BRectangle((12,12),5,5,fc='none',ec='cyan')]\n",
    "}\n",
    "anim = Heatmap(expr['resources'], expr.world_size(), dims=expr.dims(), **figkw)\n",
    "html = save_n_html(SAVEPATH, anim, expr.config())\n",
    "HTML(html)"
   ]
  },
  {
   "cell_type": "code",
   "execution_count": null,
   "metadata": {},
   "outputs": [],
   "source": []
  }
 ],
 "metadata": {
  "language_info": {
   "name": "python",
   "pygments_lexer": "ipython3"
  }
 },
 "nbformat": 4,
 "nbformat_minor": 2
}
